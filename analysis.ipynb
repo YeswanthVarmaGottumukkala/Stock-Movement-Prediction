Steps to Create a Jupyter Notebook (analysis.ipynb)
Open Jupyter Notebook:

Launch Jupyter Notebook from your terminal or Anaconda Navigator.
Create a New Notebook:

In the Jupyter interface, click on "New" and select "Python 3" (or your preferred Python version).
Copy the Content:

Use the following formatted content in your new notebook, ensuring you enter each section in a separate cell.

Jupyter Notebook Content
Cell 1: Title and Introduction
Cell 2: Import Libraries
import pandas as pd
import matplotlib.pyplot as plt
import seaborn as sns
from textblob import TextBlob

Cell 3: Load Data
# Load the cleaned Reddit data
df = pd.read_csv('data/reddit_stocks_cleaned.csv')

# Display the first few rows of the DataFrame
df.head()

Cell 4: Data Overview
# Display basic information about the DataFrame
df.info()

# Check for null values
df.isnull().sum()

Cell 5: Sentiment Analysis - Define Function
def get_sentiment(text):
    """Calculate sentiment polarity of the text."""
    return TextBlob(text).sentiment.polarity

Cell 6: Sentiment Analysis - Apply Function
# Apply the sentiment function to the cleaned title and selftext
df['title_sentiment'] = df['cleaned_title'].apply(get_sentiment)
df['selftext_sentiment'] = df['cleaned_selftext'].apply(get_sentiment)

# Display the updated DataFrame with sentiment scores
df[['cleaned_title', 'title_sentiment', 'cleaned_selftext', 'selftext_sentiment']].head()

Cell 7: Visualize Sentiment Distribution
# Set up the visualization style
sns.set(style="whitegrid")

# Plot distribution of title sentiment
plt.figure(figsize=(12, 6))
sns.histplot(df['title_sentiment'], bins=30, kde=True)
plt.title('Distribution of Title Sentiment Scores')
plt.xlabel('Sentiment Score')
plt.ylabel('Frequency')
plt.show()

# Plot distribution of selftext sentiment
plt.figure(figsize=(12, 6))
sns.histplot(df['selftext_sentiment'], bins=30, kde=True)
plt.title('Distribution of Selftext Sentiment Scores')
plt.xlabel('Sentiment Score')
plt.ylabel('Frequency')
plt.show()

Cell 8: Correlation with Stock Movement - Create Heatmap
# Assuming 'target' column indicates stock movement
correlation_matrix = df[['title_sentiment', 'selftext_sentiment', 'target']].corr()

plt.figure(figsize=(8, 6))
sns.heatmap(correlation_matrix, annot=True, cmap='coolwarm', fmt=".2f")
plt.title('Correlation Heatmap')
plt.show()

Cell 9: Grouping by Stock Movement
# Group by target and calculate mean sentiment scores
mean_sentiment = df.groupby('target')[['title_sentiment', 'selftext_sentiment']].mean().reset_index()
mean_sentiment

