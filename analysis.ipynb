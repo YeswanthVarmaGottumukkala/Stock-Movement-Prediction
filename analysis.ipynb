# Stock Movement Prediction Analysis

In this notebook, we will perform an analysis on the scraped Reddit data to understand sentiment and its relationship with stock movements.

## 1. Import Libraries

```python
import pandas as pd
import matplotlib.pyplot as plt
import seaborn as sns
from textblob import TextBlob
```
2. Load Data
```python
# Load the cleaned Reddit data
df = pd.read_csv('data/reddit_stocks_cleaned.csv')

# Display the first few rows of the DataFrame
df.head()
```
3. Data Overview
```python
# Display basic information about the DataFrame
df.info()

# Check for null values
df.isnull().sum()
```
4. Sentiment Analysis
4.1. Define Sentiment Function
```python
def get_sentiment(text):
    """Calculate sentiment polarity of the text."""
    return TextBlob(text).sentiment.polarity
```
4.2. Apply Sentiment Analysis
```python
# Apply the sentiment function to the cleaned title and selftext
df['title_sentiment'] = df['cleaned_title'].apply(get_sentiment)
df['selftext_sentiment'] = df['cleaned_selftext'].apply(get_sentiment)

# Display the updated DataFrame with sentiment scores
df[['cleaned_title', 'title_sentiment', 'cleaned_selftext', 'selftext_sentiment']].head()
```

5. Visualize Sentiment Distribution
```python
# Set up the visualization style
sns.set(style="whitegrid")

# Plot distribution of title sentiment
plt.figure(figsize=(12, 6))
sns.histplot(df['title_sentiment'], bins=30, kde=True)
plt.title('Distribution of Title Sentiment Scores')
plt.xlabel('Sentiment Score')
plt.ylabel('Frequency')
plt.show()

# Plot distribution of selftext sentiment
plt.figure(figsize=(12, 6))
sns.histplot(df['selftext_sentiment'], bins=30, kde=True)
plt.title('Distribution of Selftext Sentiment Scores')
plt.xlabel('Sentiment Score')
plt.ylabel('Frequency')
plt.show()
```
6. Correlation with Stock Movement
6.1. Create a Correlation Heatmap
```python
# Assuming 'target' column indicates stock movement
correlation_matrix = df[['title_sentiment', 'selftext_sentiment', 'target']].corr()

plt.figure(figsize=(8, 6))
sns.heatmap(correlation_matrix, annot=True, cmap='coolwarm', fmt=".2f")
plt.title('Correlation Heatmap')
plt.show()
```
6.2. Grouping by Stock Movement
```python
# Group by target and calculate mean sentiment scores
mean_sentiment = df.groupby('target')[['title_sentiment', 'selftext_sentiment']].mean().reset_index()
mean_sentiment
```

### Instructions to Create the Notebook
1. Open Jupyter Notebook or any compatible environment.
2. Create a new notebook and name it `analysis.ipynb`.
3. Copy and paste the above content into the cells of your notebook, ensuring you run each code block sequentially.
4. Save the notebook once you've completed the analysis.

This structured notebook will guide you through the analysis process while providing insights into the relationship between sentiment and stock movements based on your scraped data.
